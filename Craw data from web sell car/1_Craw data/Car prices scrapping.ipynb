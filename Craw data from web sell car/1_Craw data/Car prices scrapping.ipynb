{
 "cells": [
  {
   "cell_type": "markdown",
   "id": "7fabdeac",
   "metadata": {},
   "source": [
    "### Scrapping Car prices data"
   ]
  },
  {
   "cell_type": "markdown",
   "id": "2f416922",
   "metadata": {},
   "source": [
    "## Import Libraries"
   ]
  },
  {
   "cell_type": "code",
   "execution_count": 39,
   "id": "c272775d",
   "metadata": {},
   "outputs": [],
   "source": [
    "import pandas as pd\n",
    "import requests\n",
    "import numpy as np\n",
    "from bs4 import BeautifulSoup\n",
    "import warnings\n",
    "warnings.filterwarnings('ignore')"
   ]
  },
  {
   "cell_type": "markdown",
   "id": "701a2366",
   "metadata": {},
   "source": [
    "# Links url"
   ]
  },
  {
   "cell_type": "code",
   "execution_count": 2,
   "id": "5ea821cf",
   "metadata": {},
   "outputs": [
    {
     "data": {
      "text/plain": [
       "<Response [200]>"
      ]
     },
     "execution_count": 2,
     "metadata": {},
     "output_type": "execute_result"
    }
   ],
   "source": [
    "url=\"https://autos.mercadolibre.com.ar/auto_Desde_48_ITEM*CONDITION_2230581_NoIndex_True\"\n",
    "response=requests.get(url)\n",
    "response"
   ]
  },
  {
   "cell_type": "markdown",
   "id": "a1a55d39",
   "metadata": {},
   "source": [
    "- response.text: gives you all HTML software of this URL in String. \n",
    "\n",
    "- response.content: gives you all HTML software of this URL in normal not string."
   ]
  },
  {
   "cell_type": "markdown",
   "id": "fd2e9413",
   "metadata": {},
   "source": [
    "# Try to find the link detail info of each car in 1 page"
   ]
  },
  {
   "cell_type": "code",
   "execution_count": 3,
   "id": "e52fdaeb",
   "metadata": {},
   "outputs": [],
   "source": [
    "soup = BeautifulSoup(response.content, 'html.parser')"
   ]
  },
  {
   "cell_type": "code",
   "execution_count": 4,
   "id": "15dad095",
   "metadata": {},
   "outputs": [],
   "source": [
    "webcam_divs = soup.find_all('div', {'class': 'ui-search-item__group ui-search-item__group--title shops__items-group'})"
   ]
  },
  {
   "cell_type": "code",
   "execution_count": 5,
   "id": "c3691eb8",
   "metadata": {},
   "outputs": [
    {
     "data": {
      "text/plain": [
       "48"
      ]
     },
     "execution_count": 5,
     "metadata": {},
     "output_type": "execute_result"
    }
   ],
   "source": [
    "links=[]\n",
    "for div in webcam_divs:\n",
    "    link = div.find('a', {'class': 'ui-search-item__group__element shops__items-group-details ui-search-link'})\n",
    "    href = link['href']\n",
    "    links.append(href)\n",
    "len(links)"
   ]
  },
  {
   "cell_type": "markdown",
   "id": "85bc368c",
   "metadata": {},
   "source": [
    "# Scrapping all links"
   ]
  },
  {
   "cell_type": "code",
   "execution_count": 6,
   "id": "e6236e76",
   "metadata": {},
   "outputs": [],
   "source": [
    "urls_all_pages = []\n",
    "total_of_pages= 40\n",
    "for i in range(total_of_pages):\n",
    "    url=f\"https://autos.mercadolibre.com.ar/auto_Desde_{i}_ITEM*CONDITION_2230581_NoIndex_True\"\n",
    "    \n",
    "    response=requests.get(url)\n",
    "    if response.status_code==200:\n",
    "        soup = BeautifulSoup(response.content, 'html.parser')\n",
    "        webcam_divs = soup.find_all('div', {'class': 'ui-search-item__group ui-search-item__group--title shops__items-group'})\n",
    "        for div in webcam_divs:\n",
    "            link = div.find('a', {'class': 'ui-search-item__group__element shops__items-group-details ui-search-link'})\n",
    "            href = link['href']\n",
    "            urls_all_pages.append(href)\n",
    "    \n",
    "    else:\n",
    "        \n",
    "        pass"
   ]
  },
  {
   "cell_type": "code",
   "execution_count": 7,
   "id": "95474d4c",
   "metadata": {},
   "outputs": [
    {
     "data": {
      "text/plain": [
       "1920"
      ]
     },
     "execution_count": 7,
     "metadata": {},
     "output_type": "execute_result"
    }
   ],
   "source": [
    "len(urls_all_pages)"
   ]
  },
  {
   "cell_type": "markdown",
   "id": "17f2669e",
   "metadata": {},
   "source": [
    "### Back up all links into csv file"
   ]
  },
  {
   "cell_type": "code",
   "execution_count": 8,
   "id": "5c185be6",
   "metadata": {},
   "outputs": [],
   "source": [
    "link_data=pd.DataFrame()\n",
    "link_data[\"links\"]=urls_all_pages\n",
    "link_data.to_csv(\"links.csv\",index=False)"
   ]
  },
  {
   "cell_type": "markdown",
   "id": "4a4808ce",
   "metadata": {},
   "source": [
    "**Craw car name**"
   ]
  },
  {
   "cell_type": "code",
   "execution_count": 41,
   "id": "103def30",
   "metadata": {},
   "outputs": [
    {
     "data": {
      "text/plain": [
       "'https://auto.mercadolibre.com.ar/MLA-1368741115-vw-volkswagen-nivus-2020-comfortline-200-tsi-at-abasto-motor-_JM#position=1&search_layout=grid&type=item&tracking_id=e2f455cd-7839-4077-b226-82e30c153c58'"
      ]
     },
     "execution_count": 41,
     "metadata": {},
     "output_type": "execute_result"
    }
   ],
   "source": [
    "import json\n",
    "import re\n",
    "\n",
    "urls_all_pages=pd.read_csv(\"links.csv\")\n",
    "urls_all_pages.iloc[0]['links']"
   ]
  },
  {
   "cell_type": "code",
   "execution_count": 3,
   "id": "674b3a96",
   "metadata": {},
   "outputs": [
    {
     "data": {
      "text/plain": [
       "'Volkswagen Nivus 1.0 Tsi Tiptronic Comfortline'"
      ]
     },
     "execution_count": 3,
     "metadata": {},
     "output_type": "execute_result"
    }
   ],
   "source": [
    "response = requests.get(urls_all_pages.iloc[0]['links'])\n",
    "soup = BeautifulSoup(response.content, 'html.parser')\n",
    "car_name = soup.find('h1', {'class': 'ui-pdp-title'}).text.strip()\n",
    "car_name"
   ]
  },
  {
   "cell_type": "code",
   "execution_count": 4,
   "id": "4feb9e00",
   "metadata": {},
   "outputs": [
    {
     "data": {
      "text/html": [
       "<div>\n",
       "<style scoped>\n",
       "    .dataframe tbody tr th:only-of-type {\n",
       "        vertical-align: middle;\n",
       "    }\n",
       "\n",
       "    .dataframe tbody tr th {\n",
       "        vertical-align: top;\n",
       "    }\n",
       "\n",
       "    .dataframe thead th {\n",
       "        text-align: right;\n",
       "    }\n",
       "</style>\n",
       "<table border=\"1\" class=\"dataframe\">\n",
       "  <thead>\n",
       "    <tr style=\"text-align: right;\">\n",
       "      <th></th>\n",
       "      <th>Name</th>\n",
       "    </tr>\n",
       "  </thead>\n",
       "  <tbody>\n",
       "    <tr>\n",
       "      <th>0</th>\n",
       "      <td>Volkswagen Nivus 1.0 Tsi Tiptronic Comfortline</td>\n",
       "    </tr>\n",
       "  </tbody>\n",
       "</table>\n",
       "</div>"
      ],
      "text/plain": [
       "                                             Name\n",
       "0  Volkswagen Nivus 1.0 Tsi Tiptronic Comfortline"
      ]
     },
     "execution_count": 4,
     "metadata": {},
     "output_type": "execute_result"
    }
   ],
   "source": [
    "# create a pandas DataFrame from the dictionary\n",
    "df = pd.DataFrame({'Name': [car_name]})\n",
    "df"
   ]
  },
  {
   "cell_type": "markdown",
   "id": "d8e5021f",
   "metadata": {},
   "source": [
    "**Craw detail info (JSON)**"
   ]
  },
  {
   "cell_type": "code",
   "execution_count": 5,
   "id": "aa102a04",
   "metadata": {},
   "outputs": [
    {
     "data": {
      "text/html": [
       "<div>\n",
       "<style scoped>\n",
       "    .dataframe tbody tr th:only-of-type {\n",
       "        vertical-align: middle;\n",
       "    }\n",
       "\n",
       "    .dataframe tbody tr th {\n",
       "        vertical-align: top;\n",
       "    }\n",
       "\n",
       "    .dataframe thead th {\n",
       "        text-align: right;\n",
       "    }\n",
       "</style>\n",
       "<table border=\"1\" class=\"dataframe\">\n",
       "  <thead>\n",
       "    <tr style=\"text-align: right;\">\n",
       "      <th></th>\n",
       "      <th>seller_id</th>\n",
       "      <th>seller_type</th>\n",
       "      <th>reputation_level</th>\n",
       "      <th>power_seller_status</th>\n",
       "      <th>price</th>\n",
       "      <th>currency_id</th>\n",
       "      <th>item_id</th>\n",
       "      <th>category_id</th>\n",
       "      <th>buying_mode</th>\n",
       "      <th>category_path</th>\n",
       "      <th>...</th>\n",
       "      <th>price_comparison_position</th>\n",
       "      <th>has_good_price</th>\n",
       "      <th>whatsapp_available</th>\n",
       "      <th>whatsapp_integration_available</th>\n",
       "      <th>map_item_attributes</th>\n",
       "      <th>new_wording_free</th>\n",
       "      <th>available_consumer_credit</th>\n",
       "      <th>has_seller_level_kyc</th>\n",
       "      <th>has_highlighted_sale_specs</th>\n",
       "      <th>verified</th>\n",
       "    </tr>\n",
       "  </thead>\n",
       "  <tbody>\n",
       "    <tr>\n",
       "      <th>0</th>\n",
       "      <td>468445513</td>\n",
       "      <td>car_dealer</td>\n",
       "      <td>5_green</td>\n",
       "      <td>silver</td>\n",
       "      <td>3300000</td>\n",
       "      <td>ARS</td>\n",
       "      <td>MLA1412015300</td>\n",
       "      <td>MLA1744</td>\n",
       "      <td>classified</td>\n",
       "      <td>[MLA1743, MLA1744]</td>\n",
       "      <td>...</td>\n",
       "      <td>0.92</td>\n",
       "      <td>False</td>\n",
       "      <td>True</td>\n",
       "      <td>False</td>\n",
       "      <td>[{'id': 'BRAND', 'name': 'Marca', 'value_id': ...</td>\n",
       "      <td>True</td>\n",
       "      <td>False</td>\n",
       "      <td>True</td>\n",
       "      <td>False</td>\n",
       "      <td>False</td>\n",
       "    </tr>\n",
       "  </tbody>\n",
       "</table>\n",
       "<p>1 rows × 36 columns</p>\n",
       "</div>"
      ],
      "text/plain": [
       "   seller_id seller_type reputation_level power_seller_status    price   \n",
       "0  468445513  car_dealer          5_green              silver  3300000  \\\n",
       "\n",
       "  currency_id        item_id category_id buying_mode       category_path  ...   \n",
       "0         ARS  MLA1412015300     MLA1744  classified  [MLA1743, MLA1744]  ...  \\\n",
       "\n",
       "  price_comparison_position has_good_price whatsapp_available   \n",
       "0                      0.92          False               True  \\\n",
       "\n",
       "  whatsapp_integration_available   \n",
       "0                          False  \\\n",
       "\n",
       "                                 map_item_attributes  new_wording_free   \n",
       "0  [{'id': 'BRAND', 'name': 'Marca', 'value_id': ...              True  \\\n",
       "\n",
       "  available_consumer_credit has_seller_level_kyc has_highlighted_sale_specs   \n",
       "0                     False                 True                      False  \\\n",
       "\n",
       "  verified  \n",
       "0    False  \n",
       "\n",
       "[1 rows x 36 columns]"
      ]
     },
     "execution_count": 5,
     "metadata": {},
     "output_type": "execute_result"
    }
   ],
   "source": [
    "response=requests.get(urls_all_pages.iloc[1919]['links'])\n",
    "content = response.text\n",
    "\n",
    "\n",
    "melidata_list = re.findall(r'melidata\\(\"add\", \"event_data\", ({.*?})\\);', content)\n",
    "\n",
    "# convert each string to a dictionary\n",
    "data = [json.loads(m) for m in melidata_list]\n",
    "\n",
    "# create the dataframe\n",
    "df2 = pd.DataFrame(data)\n",
    "df2"
   ]
  },
  {
   "cell_type": "markdown",
   "id": "0960dc53",
   "metadata": {},
   "source": [
    "# Start craw all cars"
   ]
  },
  {
   "cell_type": "code",
   "execution_count": 45,
   "id": "636aabb4",
   "metadata": {},
   "outputs": [],
   "source": [
    "dataframes = []\n",
    "# Run loop with multiple times likes 0->100, 100->200\n",
    "for i in range(1000,1919):\n",
    "    response=requests.get(urls_all_pages.iloc[i]['links'])\n",
    "    content = response.text\n",
    "\n",
    "    melidata_list = re.findall(r'melidata\\(\"add\", \"event_data\", ({.*?})\\);', content)\n",
    "\n",
    "    # convert each string to a dictionary\n",
    "    data = [json.loads(m) for m in melidata_list]\n",
    "\n",
    "    # create and append the dataframe\n",
    "    df = pd.DataFrame(data)\n",
    "    dataframes.append(df)\n",
    "df_combined = pd.concat(dataframes, ignore_index=True)"
   ]
  },
  {
   "cell_type": "code",
   "execution_count": 46,
   "id": "e809b48e",
   "metadata": {},
   "outputs": [
    {
     "data": {
      "text/html": [
       "<div>\n",
       "<style scoped>\n",
       "    .dataframe tbody tr th:only-of-type {\n",
       "        vertical-align: middle;\n",
       "    }\n",
       "\n",
       "    .dataframe tbody tr th {\n",
       "        vertical-align: top;\n",
       "    }\n",
       "\n",
       "    .dataframe thead th {\n",
       "        text-align: right;\n",
       "    }\n",
       "</style>\n",
       "<table border=\"1\" class=\"dataframe\">\n",
       "  <thead>\n",
       "    <tr style=\"text-align: right;\">\n",
       "      <th></th>\n",
       "    </tr>\n",
       "  </thead>\n",
       "  <tbody>\n",
       "  </tbody>\n",
       "</table>\n",
       "</div>"
      ],
      "text/plain": [
       "Empty DataFrame\n",
       "Columns: []\n",
       "Index: []"
      ]
     },
     "execution_count": 46,
     "metadata": {},
     "output_type": "execute_result"
    }
   ],
   "source": [
    "df_combined"
   ]
  },
  {
   "cell_type": "markdown",
   "id": "8a51ce61",
   "metadata": {},
   "source": [
    "### Save in csv file"
   ]
  },
  {
   "cell_type": "code",
   "execution_count": 47,
   "id": "20bdff9d",
   "metadata": {},
   "outputs": [],
   "source": [
    "# df_combined.to_csv('data_crawed.csv')"
   ]
  },
  {
   "cell_type": "code",
   "execution_count": 48,
   "id": "bae3846a",
   "metadata": {},
   "outputs": [],
   "source": [
    "import csv\n",
    "\n",
    "with open('data_crawed.csv', 'a') as file:\n",
    "    df_combined.to_csv(file, header=False, index=False)"
   ]
  },
  {
   "cell_type": "code",
   "execution_count": null,
   "id": "e45bba0a",
   "metadata": {},
   "outputs": [],
   "source": []
  }
 ],
 "metadata": {
  "kernelspec": {
   "display_name": "Python 3 (ipykernel)",
   "language": "python",
   "name": "python3"
  },
  "language_info": {
   "codemirror_mode": {
    "name": "ipython",
    "version": 3
   },
   "file_extension": ".py",
   "mimetype": "text/x-python",
   "name": "python",
   "nbconvert_exporter": "python",
   "pygments_lexer": "ipython3",
   "version": "3.10.11"
  }
 },
 "nbformat": 4,
 "nbformat_minor": 5
}
