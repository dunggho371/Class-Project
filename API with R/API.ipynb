{
 "cells": [
  {
   "cell_type": "markdown",
   "id": "5615737c",
   "metadata": {},
   "source": [
    "## Find location of employees"
   ]
  },
  {
   "cell_type": "code",
   "execution_count": 1,
   "id": "fe9f1a9e",
   "metadata": {},
   "outputs": [
    {
     "data": {
      "text/html": [
       "<table>\n",
       "<thead><tr><th scope=col>Address</th></tr></thead>\n",
       "<tbody>\n",
       "\t<tr><td>5631 Rice, OakPark,IL       </td></tr>\n",
       "\t<tr><td>980 Berry ln, Elgin,IL      </td></tr>\n",
       "\t<tr><td>291 Springs, Gary,IL        </td></tr>\n",
       "\t<tr><td>511 Aurora Av, Aurora,IL    </td></tr>\n",
       "\t<tr><td>216 Oak Tree, Geneva,IL     </td></tr>\n",
       "\t<tr><td>111 Green Pl, Elgin,IL      </td></tr>\n",
       "\t<tr><td>100 Rose Pl, Gary,IL        </td></tr>\n",
       "\t<tr><td>145 Berry Ln, Naperville,IL </td></tr>\n",
       "\t<tr><td>120 Fall Creek, Gary,IL     </td></tr>\n",
       "\t<tr><td>111 Britany Springs,Elgin,IL</td></tr>\n",
       "</tbody>\n",
       "</table>\n"
      ],
      "text/latex": [
       "\\begin{tabular}{r|l}\n",
       " Address\\\\\n",
       "\\hline\n",
       "\t 5631 Rice, OakPark,IL       \\\\\n",
       "\t 980 Berry ln, Elgin,IL      \\\\\n",
       "\t 291 Springs, Gary,IL        \\\\\n",
       "\t 511 Aurora Av, Aurora,IL    \\\\\n",
       "\t 216 Oak Tree, Geneva,IL     \\\\\n",
       "\t 111 Green Pl, Elgin,IL      \\\\\n",
       "\t 100 Rose Pl, Gary,IL        \\\\\n",
       "\t 145 Berry Ln, Naperville,IL \\\\\n",
       "\t 120 Fall Creek, Gary,IL     \\\\\n",
       "\t 111 Britany Springs,Elgin,IL\\\\\n",
       "\\end{tabular}\n"
      ],
      "text/markdown": [
       "\n",
       "| Address |\n",
       "|---|\n",
       "| 5631 Rice, OakPark,IL        |\n",
       "| 980 Berry ln, Elgin,IL       |\n",
       "| 291 Springs, Gary,IL         |\n",
       "| 511 Aurora Av, Aurora,IL     |\n",
       "| 216 Oak Tree, Geneva,IL      |\n",
       "| 111 Green Pl, Elgin,IL       |\n",
       "| 100 Rose Pl, Gary,IL         |\n",
       "| 145 Berry Ln, Naperville,IL  |\n",
       "| 120 Fall Creek, Gary,IL      |\n",
       "| 111 Britany Springs,Elgin,IL |\n",
       "\n"
      ],
      "text/plain": [
       "   Address                     \n",
       "1  5631 Rice, OakPark,IL       \n",
       "2  980 Berry ln, Elgin,IL      \n",
       "3  291 Springs, Gary,IL        \n",
       "4  511 Aurora Av, Aurora,IL    \n",
       "5  216 Oak Tree, Geneva,IL     \n",
       "6  111 Green Pl, Elgin,IL      \n",
       "7  100 Rose Pl, Gary,IL        \n",
       "8  145 Berry Ln, Naperville,IL \n",
       "9  120 Fall Creek, Gary,IL     \n",
       "10 111 Britany Springs,Elgin,IL"
      ]
     },
     "metadata": {},
     "output_type": "display_data"
    }
   ],
   "source": [
    "library(\"RODBC\")\n",
    "\n",
    "connection<- odbcConnect(\"Dung\")\n",
    "myData <- sqlQuery(connection, \"SELECT\n",
    "    Address from Employees\n",
    " \")\n",
    "myData"
   ]
  },
  {
   "cell_type": "markdown",
   "id": "2607b39f",
   "metadata": {},
   "source": [
    "## Find lon and lat of above location"
   ]
  },
  {
   "cell_type": "code",
   "execution_count": 9,
   "id": "afc732a0",
   "metadata": {},
   "outputs": [
    {
     "name": "stdout",
     "output_type": "stream",
     "text": [
      "                        Address       lon      lat\n",
      "1         5631 Rice, OakPark,IL -87.78994 41.88716\n",
      "2        980 Berry ln, Elgin,IL -88.28110 42.03726\n",
      "3          291 Springs, Gary,IL -87.88732 41.77956\n",
      "4      511 Aurora Av, Aurora,IL -88.31100 41.78209\n",
      "5       216 Oak Tree, Geneva,IL -88.29771 41.88522\n",
      "6        111 Green Pl, Elgin,IL -88.28110 42.03726\n",
      "7          100 Rose Pl, Gary,IL -87.85561 41.77059\n",
      "8   145 Berry Ln, Naperville,IL -88.09061 41.74854\n",
      "9       120 Fall Creek, Gary,IL -87.85561 41.77059\n",
      "10 111 Britany Springs,Elgin,IL -88.28110 42.03726\n"
     ]
    }
   ],
   "source": [
    "library(jsonlite)\n",
    "library(dplyr)\n",
    "\n",
    "# Function to retrieve lon and lat for an address\n",
    "getLonLat <- function(address) {\n",
    "  # Create the API URL with the address\n",
    "  url <- paste0(\"https://api.geoapify.com/v1/geocode/search?text=\", urltools::url_encode(address), \"&apiKey=e646e66a03ab4f5b9b4ced370b1f408b\")\n",
    "\n",
    "  # Make the API request and parse the JSON response\n",
    "  response <- jsonlite::fromJSON(url)\n",
    "  \n",
    "  # Check if any features are returned\n",
    "  if (length(response$features) > 0) {\n",
    "    # Find the index of the first occurrence of \"state_code\" = \"IL\"\n",
    "    index <- which(response$features$properties$state_code == \"IL\")[1]\n",
    "    \n",
    "    # Check if index exists and extract lon and lat\n",
    "    if (!is.na(index)) {\n",
    "      lon <- response$features$geometry$coordinates[[index]][1]\n",
    "      lat <- response$features$geometry$coordinates[[index]][2]\n",
    "    } else {\n",
    "      lon <- NaN\n",
    "      lat <- NaN\n",
    "    }\n",
    "  } else {\n",
    "    lon <- NaN\n",
    "    lat <- NaN\n",
    "  }\n",
    "  \n",
    "  return(c(lon, lat))\n",
    "}\n",
    "\n",
    "# Create an empty dataframe to store the results\n",
    "lonlat_df <- data.frame(Address = character(),\n",
    "                        lon = numeric(),\n",
    "                        lat = numeric(),\n",
    "                        stringsAsFactors = FALSE)\n",
    "\n",
    "# Loop over each address in the myData dataframe\n",
    "for (i in 1:nrow(myData)) {\n",
    "  address <- myData$Address[i]\n",
    "  \n",
    "  # Retrieve lon and lat for the address\n",
    "  lonlat <- getLonLat(address)\n",
    "  \n",
    "  # Append the result to the lonlat_df dataframe\n",
    "  lonlat_df <- lonlat_df %>%\n",
    "    add_row(Address = address, lon = lonlat[1], lat = lonlat[2])\n",
    "}\n",
    "\n",
    "# Print the lonlat_df dataframe\n",
    "print(lonlat_df)"
   ]
  },
  {
   "cell_type": "markdown",
   "id": "d5bda487",
   "metadata": {},
   "source": [
    "## Find location of Q3"
   ]
  },
  {
   "cell_type": "code",
   "execution_count": 10,
   "id": "3dbdb3ba",
   "metadata": {},
   "outputs": [
    {
     "name": "stdout",
     "output_type": "stream",
     "text": [
      "                                        Address       lon      lat\n",
      "1 855 E Golf Rd Arlington Heights, IL 60005 USA -87.97127 42.05043\n"
     ]
    }
   ],
   "source": [
    "# Address to retrieve lon and lat for\n",
    "address <- \"855 E Golf Rd Arlington Heights, IL 60005 USA\"\n",
    "\n",
    "# Create an empty dataframe to store the result\n",
    "lonlat_df_2 <- data.frame(Address = character(),\n",
    "                        lon = numeric(),\n",
    "                        lat = numeric(),\n",
    "                        stringsAsFactors = FALSE)\n",
    "\n",
    "# Retrieve lon and lat for the address\n",
    "lonlat_2 <- getLonLat(address)\n",
    "\n",
    "# Add the result to the lonlat_df dataframe\n",
    "lonlat_df_2 <- lonlat_df_2 %>%\n",
    "  add_row(Address = address, lon = lonlat_2[1], lat = lonlat_2[2])\n",
    "\n",
    "# Print the lonlat_df dataframe\n",
    "print(lonlat_df_2)"
   ]
  },
  {
   "cell_type": "markdown",
   "id": "305ab956",
   "metadata": {},
   "source": [
    "## Save these df into db"
   ]
  },
  {
   "cell_type": "code",
   "execution_count": 11,
   "id": "f500a515",
   "metadata": {},
   "outputs": [
    {
     "data": {
      "text/html": [],
      "text/latex": [],
      "text/markdown": [],
      "text/plain": [
       "character(0)"
      ]
     },
     "metadata": {},
     "output_type": "display_data"
    }
   ],
   "source": [
    "# Create the Employ_loca table in the database\n",
    "sqlQuery(connection, \"CREATE TABLE Employee_Location (\n",
    "                         Address VARCHAR(100),\n",
    "                         lon FLOAT,\n",
    "                         lat FLOAT\n",
    "                      )\")\n",
    "\n",
    "# Insert the data into the table\n",
    "sqlSave(connection, lonlat_df, tablename = \"Employee_Location\", append = TRUE, rownames = FALSE)"
   ]
  },
  {
   "cell_type": "code",
   "execution_count": 12,
   "id": "69ab43c8",
   "metadata": {},
   "outputs": [
    {
     "data": {
      "text/html": [],
      "text/latex": [],
      "text/markdown": [],
      "text/plain": [
       "character(0)"
      ]
     },
     "metadata": {},
     "output_type": "display_data"
    }
   ],
   "source": [
    "# Create the Q3_loca table in the database\n",
    "sqlQuery(connection, \"CREATE TABLE Q3_Location (\n",
    "                         Address VARCHAR(100),\n",
    "                         lon FLOAT,\n",
    "                         lat FLOAT\n",
    "                      )\")\n",
    "\n",
    "# Insert the data into the table\n",
    "sqlSave(connection, lonlat_df_2, tablename = \"Q3_Location\", append = TRUE, rownames = FALSE)"
   ]
  },
  {
   "cell_type": "markdown",
   "id": "80faac9b",
   "metadata": {},
   "source": [
    "# Find the distance"
   ]
  },
  {
   "cell_type": "code",
   "execution_count": 2,
   "id": "3a3f74a9",
   "metadata": {},
   "outputs": [
    {
     "data": {
      "text/html": [
       "<table>\n",
       "<thead><tr><th scope=col>Address</th><th scope=col>Distance</th></tr></thead>\n",
       "<tbody>\n",
       "\t<tr><td>5631 Rice, OakPark,IL       </td><td>14.63819                    </td></tr>\n",
       "\t<tr><td>980 Berry ln, Elgin,IL      </td><td>15.93263                    </td></tr>\n",
       "\t<tr><td>291 Springs, Gary,IL        </td><td>19.21768                    </td></tr>\n",
       "\t<tr><td>511 Aurora Av, Aurora,IL    </td><td>25.48639                    </td></tr>\n",
       "\t<tr><td>216 Oak Tree, Geneva,IL     </td><td>20.29776                    </td></tr>\n",
       "\t<tr><td>111 Green Pl, Elgin,IL      </td><td>15.93263                    </td></tr>\n",
       "\t<tr><td>100 Rose Pl, Gary,IL        </td><td>20.24055                    </td></tr>\n",
       "\t<tr><td>145 Berry Ln, Naperville,IL </td><td>21.75495                    </td></tr>\n",
       "\t<tr><td>120 Fall Creek, Gary,IL     </td><td>20.24055                    </td></tr>\n",
       "\t<tr><td>111 Britany Springs,Elgin,IL</td><td>15.93263                    </td></tr>\n",
       "</tbody>\n",
       "</table>\n"
      ],
      "text/latex": [
       "\\begin{tabular}{r|ll}\n",
       " Address & Distance\\\\\n",
       "\\hline\n",
       "\t 5631 Rice, OakPark,IL        & 14.63819                    \\\\\n",
       "\t 980 Berry ln, Elgin,IL       & 15.93263                    \\\\\n",
       "\t 291 Springs, Gary,IL         & 19.21768                    \\\\\n",
       "\t 511 Aurora Av, Aurora,IL     & 25.48639                    \\\\\n",
       "\t 216 Oak Tree, Geneva,IL      & 20.29776                    \\\\\n",
       "\t 111 Green Pl, Elgin,IL       & 15.93263                    \\\\\n",
       "\t 100 Rose Pl, Gary,IL         & 20.24055                    \\\\\n",
       "\t 145 Berry Ln, Naperville,IL  & 21.75495                    \\\\\n",
       "\t 120 Fall Creek, Gary,IL      & 20.24055                    \\\\\n",
       "\t 111 Britany Springs,Elgin,IL & 15.93263                    \\\\\n",
       "\\end{tabular}\n"
      ],
      "text/markdown": [
       "\n",
       "| Address | Distance |\n",
       "|---|---|\n",
       "| 5631 Rice, OakPark,IL        | 14.63819                     |\n",
       "| 980 Berry ln, Elgin,IL       | 15.93263                     |\n",
       "| 291 Springs, Gary,IL         | 19.21768                     |\n",
       "| 511 Aurora Av, Aurora,IL     | 25.48639                     |\n",
       "| 216 Oak Tree, Geneva,IL      | 20.29776                     |\n",
       "| 111 Green Pl, Elgin,IL       | 15.93263                     |\n",
       "| 100 Rose Pl, Gary,IL         | 20.24055                     |\n",
       "| 145 Berry Ln, Naperville,IL  | 21.75495                     |\n",
       "| 120 Fall Creek, Gary,IL      | 20.24055                     |\n",
       "| 111 Britany Springs,Elgin,IL | 15.93263                     |\n",
       "\n"
      ],
      "text/plain": [
       "   Address                      Distance\n",
       "1  5631 Rice, OakPark,IL        14.63819\n",
       "2  980 Berry ln, Elgin,IL       15.93263\n",
       "3  291 Springs, Gary,IL         19.21768\n",
       "4  511 Aurora Av, Aurora,IL     25.48639\n",
       "5  216 Oak Tree, Geneva,IL      20.29776\n",
       "6  111 Green Pl, Elgin,IL       15.93263\n",
       "7  100 Rose Pl, Gary,IL         20.24055\n",
       "8  145 Berry Ln, Naperville,IL  21.75495\n",
       "9  120 Fall Creek, Gary,IL      20.24055\n",
       "10 111 Britany Springs,Elgin,IL 15.93263"
      ]
     },
     "metadata": {},
     "output_type": "display_data"
    }
   ],
   "source": [
    "myResult <- sqlQuery(connection, \"SELECT\n",
    "    el.Address,\n",
    "    2 * 3961 * ASIN(SQRT(POWER(SIN((el.Lat - ql.Lat) * PI() / 180 / 2), 2) +\n",
    "                        COS(el.Lat * PI() / 180) * COS(ql.Lat * PI() / 180) *\n",
    "                        POWER(SIN((el.Lon - ql.Lon) * PI() / 180 / 2), 2))) AS Distance\n",
    "FROM\n",
    "    Employee_Location el\n",
    "CROSS JOIN\n",
    "    Q3_Location ql\n",
    " \")\n",
    "myResult"
   ]
  },
  {
   "cell_type": "code",
   "execution_count": 5,
   "id": "21bad953",
   "metadata": {},
   "outputs": [
    {
     "name": "stdout",
     "output_type": "stream",
     "text": [
      "[1] \"Location min: 5631 Rice, OakPark,IL\"\n",
      "[1] \"Distance min: 14.6381858327869\"\n",
      "[1] \"Location max: 5631 Rice, OakPark,IL\"\n",
      "[1] \"Distance max: 14.6381858327869\"\n"
     ]
    }
   ],
   "source": [
    "# Find the index of the row \n",
    "index_min <- which.min(myResult$Distance)\n",
    "index_max <- which.max(myResult$Distance)\n",
    "# Get the location and distance \n",
    "smallest_location <- myResult$Address[index_min]\n",
    "smallest_distance <- myResult$Distance[index_min]\n",
    "max_location <- myResult$Address[index_min]\n",
    "max_distance <- myResult$Distance[index_min]\n",
    "# Print \n",
    "print(paste(\"Location min:\", smallest_location))\n",
    "print(paste(\"Distance min:\", smallest_distance))\n",
    "print(paste(\"Location max:\", max_location))\n",
    "print(paste(\"Distance max:\", max_distance))"
   ]
  },
  {
   "cell_type": "code",
   "execution_count": 18,
   "id": "b74979be",
   "metadata": {},
   "outputs": [],
   "source": [
    "# Close the database connection\n",
    "odbcClose(connection)"
   ]
  },
  {
   "cell_type": "code",
   "execution_count": null,
   "id": "9f91cb9d",
   "metadata": {},
   "outputs": [],
   "source": []
  }
 ],
 "metadata": {
  "kernelspec": {
   "display_name": "R",
   "language": "R",
   "name": "ir"
  },
  "language_info": {
   "codemirror_mode": "r",
   "file_extension": ".r",
   "mimetype": "text/x-r-source",
   "name": "R",
   "pygments_lexer": "r",
   "version": "3.6.1"
  }
 },
 "nbformat": 4,
 "nbformat_minor": 5
}
