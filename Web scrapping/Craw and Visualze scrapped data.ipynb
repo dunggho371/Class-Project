{
 "cells": [
  {
   "cell_type": "markdown",
   "id": "f1b0de4f-c980-47cf-9b84-99595d3c6555",
   "metadata": {},
   "source": [
    "<center>\n",
    "    <img src=\"https://upload.wikimedia.org/wikipedia/vi/1/1d/Logo_%C4%90%E1%BA%A1i_h%E1%BB%8Dc_FPT.png\" width=\"300\" alt=\"cognitiveclass.ai logo\"  />\n",
    "</center>\n",
    "\n",
    "# Lab 5: WebScraping\n",
    "\n",
    "<br>\n",
    "\n",
    "#### Class name: ______________________\n",
    "\n",
    "#### Student code: ____________________\n",
    "\n",
    "#### Student name: ___________________\n",
    "\n",
    "<br>\n",
    "\n",
    "## Objectives\n",
    "\n",
    "After completing this lab you will be able to:\n",
    "\n",
    "*   Understand REST APIs\n",
    "*   Using BeautifulSoup module for webscraping\n",
    "\n",
    "\n",
    "Estimated time needed: **60** minutes"
   ]
  },
  {
   "cell_type": "code",
   "execution_count": null,
   "id": "e5926a87-2496-4e20-9556-ae0e5ed20fde",
   "metadata": {},
   "outputs": [],
   "source": [
    "# This lab require some library packages. If error happen when running please uncomment lines below to install them:\n",
    "\n",
    "# !conda install bs4==4.10.0 -y\n",
    "# !                                                                  ==4.6.4\n",
    "# !conda install html5lib==1.1 -y\n",
    "# !pip install requests==2.26.0"
   ]
  },
  {
   "cell_type": "markdown",
   "id": "dc793706-ce60-4b1a-a031-6c05d28e0f2b",
   "metadata": {},
   "source": [
    "## 1. Example code"
   ]
  },
  {
   "cell_type": "code",
   "execution_count": 1,
   "id": "8fcbf1af-2865-44ba-966e-c1ae835b3721",
   "metadata": {},
   "outputs": [],
   "source": [
    "# import requests\n",
    "# from bs4 import BeautifulSoup\n",
    "\n",
    "# page = requests.get(\"https://fap.fpt.edu.vn/\").text\n",
    "# #print(page)\n",
    "# # Create a BeatifulSoup object\n",
    "# soup = BeautifulSoup(page, \"html.parser\")\n",
    "#print(soup)\n",
    "\n",
    "# Select html tag by id\n",
    "#print(soup.find(\"select\", {\"id\": \"ctl00_mainContent_ddlCampus\"}))\n",
    "\n",
    "# Pulls all instances of <option> tag\n",
    "# campus_options = soup.find_all('option')\n",
    "# print(campus_options)\n",
    "\n",
    "# print all log in option\n",
    "# for option in campus_options:\n",
    "#     text = option.contents[0]\n",
    "#     print(text)"
   ]
  },
  {
   "cell_type": "markdown",
   "id": "c0ca96fd-aa83-4c97-9102-ff9a4363dbe2",
   "metadata": {},
   "source": [
    "## 2. Data source\n",
    "Implement that code by change the URL\n",
    "\n",
    "* https://Giavang.net\n",
    "\n",
    "* https://webgia.com/\n",
    "\n",
    "* https://giavangvn.org/\n",
    "\n",
    "* https://www.invert.vn/gia-vang-hom-nay-ar4022\n",
    "\n",
    "or any other URL that you can find!\n"
   ]
  },
  {
   "cell_type": "markdown",
   "id": "fbaa72a7-3d1b-4f86-aaa0-7266e795122b",
   "metadata": {},
   "source": [
    "## 3. Tasks"
   ]
  },
  {
   "cell_type": "markdown",
   "id": "57795be9-2732-4359-a70c-be85ac9f6ae8",
   "metadata": {},
   "source": [
    "### 3.1 Getting the data\n",
    "\n",
    "Using Webscraping to crawling data of SJC gold price in major cities and provinces in Vietnam. The data should have more than 10 records. Display a table to show the data. "
   ]
  },
  {
   "cell_type": "code",
   "execution_count": 1,
   "id": "8d0559cf-26af-4736-a8f3-d705eb2eaf7e",
   "metadata": {
    "scrolled": false
   },
   "outputs": [],
   "source": [
    "# Enter code here\n",
    "import pandas as pd\n",
    "import requests\n",
    "import numpy as np\n",
    "from bs4 import BeautifulSoup\n",
    "import warnings\n",
    "warnings.filterwarnings('ignore')\n",
    "page = requests.get(\"https://webtygia.com/?fbclid=IwAR3cmpqntilZvL1fXMW1kx78XOxBdDksWV0WYTwqBdP5jvMb_WMNF5_16Sk\").text\n",
    "soup = BeautifulSoup(page, 'html.parser')\n",
    "data = pd.DataFrame(columns=[\"Khu Vực\",\"Loại\",\"Giá Mua\",\"Giá Bán\"])\n",
    "\n"
   ]
  },
  {
   "cell_type": "code",
   "execution_count": 2,
   "id": "22e3ca4d",
   "metadata": {
    "scrolled": true
   },
   "outputs": [],
   "source": [
    "count=1\n",
    "length=len(soup.find(\"tbody\").find_all('tr'))\n",
    "for row in soup.find(\"tbody\").find_all('tr'):\n",
    "    if count<length:\n",
    "        col = row.find_all(\"td\")    \n",
    "        khu_vuc = col[0].text\n",
    "        loai=col[1].text\n",
    "        gia_mua = col[2].text\n",
    "        gia_ban = col[3].text\n",
    "#         print(khu_vuc,loai,gia_mua,gia_ban)\n",
    "        count+=1\n",
    "    data=data.append({\"Khu Vực\":khu_vuc,\"Loại\":loai,\"Giá Mua\":gia_mua,\"Giá Bán\":gia_ban}, ignore_index=True)\n",
    "    \n",
    "#--------------------Clear data thừa----------------------------\n",
    "\n",
    "#------------------Xóa n giá bán   \n",
    "index=0\n",
    "for i in data['Giá Bán']:\n",
    "    data2=i.replace('\\n','')\n",
    "    l=list(data2)\n",
    "    if l[0]==' ':\n",
    "        del(l[0])\n",
    "    del(l[9:])\n",
    "    data2=''.join(l)\n",
    "    data['Giá Bán'][index]=data2\n",
    "    index+=1\n",
    "# Xóa . giá bán\n",
    "index=0\n",
    "for i in data['Giá Bán']:\n",
    "    data2=i.replace('.','')\n",
    "    data['Giá Bán'][index]=data2\n",
    "    index+=1\n",
    "\n",
    "#-------------------Xóa n giá Mua   \n",
    "index=0\n",
    "for i in data['Giá Mua']:\n",
    "    data2=i.replace('\\n','')\n",
    "    l=list(data2)\n",
    "    if l[0]==' ':\n",
    "        del(l[0])\n",
    "    del(l[10:])\n",
    "    data2=''.join(l)\n",
    "    data['Giá Mua'][index]=data2\n",
    "    index+=1\n",
    "    \n",
    "#-------------------- Xóa . giá mua\n",
    "index=0\n",
    "for i in data['Giá Mua']:\n",
    "    data2=i.replace('.','')\n",
    "    data['Giá Mua'][index]=data2\n",
    "    index+=1\n",
    "    \n",
    "#------------------Xóa n Loại\n",
    "index=0\n",
    "for i in data['Loại']:\n",
    "    data2=i.replace('\\n','')\n",
    "    data['Loại'][index]=data2\n",
    "    index+=1\n",
    "        \n",
    "data.drop(length-1,inplace=True)"
   ]
  },
  {
   "cell_type": "code",
   "execution_count": 3,
   "id": "79daaf9d",
   "metadata": {},
   "outputs": [],
   "source": [
    "index=0\n",
    "for i in data['Loại']:\n",
    "    i =data['Loại'][index].find('SJC')\n",
    "    if i==-1 :\n",
    "        data.drop(index,inplace=True)\n",
    "        index+=1 \n",
    "    else:\n",
    "        index+=1"
   ]
  },
  {
   "cell_type": "code",
   "execution_count": 4,
   "id": "4acd806e",
   "metadata": {},
   "outputs": [
    {
     "data": {
      "text/html": [
       "<div>\n",
       "<style scoped>\n",
       "    .dataframe tbody tr th:only-of-type {\n",
       "        vertical-align: middle;\n",
       "    }\n",
       "\n",
       "    .dataframe tbody tr th {\n",
       "        vertical-align: top;\n",
       "    }\n",
       "\n",
       "    .dataframe thead th {\n",
       "        text-align: right;\n",
       "    }\n",
       "</style>\n",
       "<table border=\"1\" class=\"dataframe\">\n",
       "  <thead>\n",
       "    <tr style=\"text-align: right;\">\n",
       "      <th></th>\n",
       "      <th>Khu Vực</th>\n",
       "      <th>Loại</th>\n",
       "      <th>Giá Mua</th>\n",
       "      <th>Giá Bán</th>\n",
       "    </tr>\n",
       "  </thead>\n",
       "  <tbody>\n",
       "    <tr>\n",
       "      <th>0</th>\n",
       "      <td>Long Xuyên</td>\n",
       "      <td>Vàng SJC</td>\n",
       "      <td>6622000</td>\n",
       "      <td>6725000</td>\n",
       "    </tr>\n",
       "    <tr>\n",
       "      <th>1</th>\n",
       "      <td>Hồ Chí Minh</td>\n",
       "      <td>Vàng SJC 1L - 10L</td>\n",
       "      <td>6620000</td>\n",
       "      <td>6720000</td>\n",
       "    </tr>\n",
       "    <tr>\n",
       "      <th>2</th>\n",
       "      <td>Hồ Chí Minh</td>\n",
       "      <td>Vàng nhẫn SJC 99,99 0,5 chỉ</td>\n",
       "      <td>5225000</td>\n",
       "      <td>5335000</td>\n",
       "    </tr>\n",
       "    <tr>\n",
       "      <th>3</th>\n",
       "      <td>Hồ Chí Minh</td>\n",
       "      <td>Vàng nhẫn SJC 99,99 1 chỉ, 2 chỉ, 5 chỉ</td>\n",
       "      <td>5225000</td>\n",
       "      <td>5325000</td>\n",
       "    </tr>\n",
       "    <tr>\n",
       "      <th>4</th>\n",
       "      <td>Đà Nẵng</td>\n",
       "      <td>Vàng SJC</td>\n",
       "      <td>6620000</td>\n",
       "      <td>6722000</td>\n",
       "    </tr>\n",
       "    <tr>\n",
       "      <th>5</th>\n",
       "      <td>Cà Mau</td>\n",
       "      <td>Vàng SJC</td>\n",
       "      <td>6620000</td>\n",
       "      <td>6722000</td>\n",
       "    </tr>\n",
       "    <tr>\n",
       "      <th>6</th>\n",
       "      <td>Miền Tây</td>\n",
       "      <td>Vàng SJC</td>\n",
       "      <td>6620000</td>\n",
       "      <td>6720000</td>\n",
       "    </tr>\n",
       "    <tr>\n",
       "      <th>7</th>\n",
       "      <td>Biên Hòa</td>\n",
       "      <td>Vàng SJC</td>\n",
       "      <td>6620000</td>\n",
       "      <td>6720000</td>\n",
       "    </tr>\n",
       "    <tr>\n",
       "      <th>8</th>\n",
       "      <td>Quãng Ngãi</td>\n",
       "      <td>Vàng SJC</td>\n",
       "      <td>6620000</td>\n",
       "      <td>6720000</td>\n",
       "    </tr>\n",
       "    <tr>\n",
       "      <th>9</th>\n",
       "      <td>Hà Nội</td>\n",
       "      <td>Vàng SJC</td>\n",
       "      <td>6620000</td>\n",
       "      <td>6722000</td>\n",
       "    </tr>\n",
       "    <tr>\n",
       "      <th>10</th>\n",
       "      <td>Bạc Liêu</td>\n",
       "      <td>Vàng SJC</td>\n",
       "      <td>6620000</td>\n",
       "      <td>6722000</td>\n",
       "    </tr>\n",
       "    <tr>\n",
       "      <th>11</th>\n",
       "      <td>Nha Trang</td>\n",
       "      <td>Vàng SJC</td>\n",
       "      <td>6620000</td>\n",
       "      <td>6722000</td>\n",
       "    </tr>\n",
       "    <tr>\n",
       "      <th>12</th>\n",
       "      <td>Quy Nhơn</td>\n",
       "      <td>Vàng SJC</td>\n",
       "      <td>6618000</td>\n",
       "      <td>6722000</td>\n",
       "    </tr>\n",
       "    <tr>\n",
       "      <th>13</th>\n",
       "      <td>Phan Rang</td>\n",
       "      <td>Vàng SJC</td>\n",
       "      <td>6618000</td>\n",
       "      <td>6722000</td>\n",
       "    </tr>\n",
       "    <tr>\n",
       "      <th>14</th>\n",
       "      <td>Hạ Long</td>\n",
       "      <td>Vàng SJC</td>\n",
       "      <td>6618000</td>\n",
       "      <td>6722000</td>\n",
       "    </tr>\n",
       "    <tr>\n",
       "      <th>15</th>\n",
       "      <td>Quảng Nam</td>\n",
       "      <td>Vàng SJC</td>\n",
       "      <td>6618000</td>\n",
       "      <td>6722000</td>\n",
       "    </tr>\n",
       "    <tr>\n",
       "      <th>16</th>\n",
       "      <td>Bình Phước</td>\n",
       "      <td>Vàng SJC</td>\n",
       "      <td>6618000</td>\n",
       "      <td>6722000</td>\n",
       "    </tr>\n",
       "    <tr>\n",
       "      <th>17</th>\n",
       "      <td>Huế</td>\n",
       "      <td>Vàng SJC</td>\n",
       "      <td>6617000</td>\n",
       "      <td>6723000</td>\n",
       "    </tr>\n",
       "  </tbody>\n",
       "</table>\n",
       "</div>"
      ],
      "text/plain": [
       "        Khu Vực                                     Loại   Giá Mua  Giá Bán\n",
       "0    Long Xuyên                                 Vàng SJC  6622000   6725000\n",
       "1   Hồ Chí Minh                        Vàng SJC 1L - 10L  6620000   6720000\n",
       "2   Hồ Chí Minh              Vàng nhẫn SJC 99,99 0,5 chỉ  5225000   5335000\n",
       "3   Hồ Chí Minh  Vàng nhẫn SJC 99,99 1 chỉ, 2 chỉ, 5 chỉ  5225000   5325000\n",
       "4       Đà Nẵng                                 Vàng SJC  6620000   6722000\n",
       "5        Cà Mau                                 Vàng SJC  6620000   6722000\n",
       "6      Miền Tây                                 Vàng SJC  6620000   6720000\n",
       "7      Biên Hòa                                 Vàng SJC  6620000   6720000\n",
       "8    Quãng Ngãi                                 Vàng SJC  6620000   6720000\n",
       "9        Hà Nội                                 Vàng SJC  6620000   6722000\n",
       "10     Bạc Liêu                                 Vàng SJC  6620000   6722000\n",
       "11    Nha Trang                                 Vàng SJC  6620000   6722000\n",
       "12     Quy Nhơn                                 Vàng SJC  6618000   6722000\n",
       "13    Phan Rang                                 Vàng SJC  6618000   6722000\n",
       "14      Hạ Long                                 Vàng SJC  6618000   6722000\n",
       "15    Quảng Nam                                 Vàng SJC  6618000   6722000\n",
       "16   Bình Phước                                 Vàng SJC  6618000   6722000\n",
       "17          Huế                                 Vàng SJC  6617000   6723000"
      ]
     },
     "execution_count": 4,
     "metadata": {},
     "output_type": "execute_result"
    }
   ],
   "source": [
    "data.reset_index(drop=True,inplace=True)\n",
    "data"
   ]
  },
  {
   "cell_type": "markdown",
   "id": "463a4276-9163-4e87-9b55-d9519289ab86",
   "metadata": {},
   "source": [
    "### 3.2 Max gold price\n",
    "\n",
    "Which province has the highest gold selling price?"
   ]
  },
  {
   "cell_type": "code",
   "execution_count": 5,
   "id": "4d82f0f7-6618-4461-affa-bf033913f2e8",
   "metadata": {},
   "outputs": [
    {
     "name": "stdout",
     "output_type": "stream",
     "text": [
      "The province has the highest gold selling price is(are): Long Xuyên and its(their) price is 6725000.0\n"
     ]
    }
   ],
   "source": [
    "# Convert datatype to float\n",
    "index =0\n",
    "for i in data['Giá Mua']:\n",
    "    data['Giá Mua'][index]=float(data['Giá Mua'][index])\n",
    "    index+=1\n",
    "index =0\n",
    "for i in data['Giá Bán']:\n",
    "    data['Giá Bán'][index]=float(data['Giá Bán'][index])\n",
    "    index+=1\n",
    "data2=data.copy()\n",
    "max_selling_price=np.max(data2['Giá Bán'])\n",
    "row=data2.loc[(data2['Giá Bán'] == max_selling_price)]\n",
    "list=[]\n",
    "for i in row['Khu Vực']:\n",
    "    list.append(i)\n",
    "print('The province has the highest gold selling price is(are):', ','.join(set(list)), f\"and its(their) price is {max_selling_price}\")"
   ]
  },
  {
   "cell_type": "markdown",
   "id": "61e622db-e0ff-482a-b8b5-af5de8203451",
   "metadata": {},
   "source": [
    "### 3.3 Buying and Selling price difference \n",
    "\n",
    "Which provinces have the biggest difference in selling and buying prices?"
   ]
  },
  {
   "cell_type": "code",
   "execution_count": 6,
   "id": "e3e9c56d-c635-4678-921e-a09d5e9e45b9",
   "metadata": {},
   "outputs": [
    {
     "name": "stdout",
     "output_type": "stream",
     "text": [
      "The province have the biggest difference in selling and buying prices is(are): Hồ Chí Minh and its(their) price is 110000.0\n"
     ]
    }
   ],
   "source": [
    "# Enter code here\n",
    "data2=data.copy()\n",
    "length=data['Giá Bán'].shape[0]\n",
    "\n",
    "data2['Buying and Selling price difference']= None\n",
    "index=0\n",
    "for i in range (0,length-1):\n",
    "    data2['Buying and Selling price difference'][index] = data2['Giá Bán'][index]-data2['Giá Mua'][index]\n",
    "    index += 1\n",
    "\n",
    "max_selling_price=np.max(data2['Buying and Selling price difference'])\n",
    "row=data2.loc[(data2['Buying and Selling price difference'] == max_selling_price)]\n",
    "list=[]\n",
    "for i in row['Khu Vực']:\n",
    "    list.append(i)\n",
    "print('The province have the biggest difference in selling and buying prices is(are):', ','.join(set(list)), f\"and its(their) price is {max_selling_price}\")"
   ]
  },
  {
   "cell_type": "markdown",
   "id": "8e55cbd5-288d-452e-a99a-512d33bb9493",
   "metadata": {},
   "source": [
    "### 3.4 Average\n",
    "\n",
    "Find the average buying and selling price"
   ]
  },
  {
   "cell_type": "code",
   "execution_count": 7,
   "id": "dfc8b0ca-783b-4402-be30-69aa9fcaaa57",
   "metadata": {},
   "outputs": [
    {
     "name": "stdout",
     "output_type": "stream",
     "text": [
      "The average of buying and selling price is 6464388.888888889 and 6567111.111111111\n"
     ]
    }
   ],
   "source": [
    "# Enter code here\n",
    "print(f\"The average of buying and selling price is {data['Giá Mua'].mean()} and {np.mean(data['Giá Bán'])}\")"
   ]
  },
  {
   "cell_type": "markdown",
   "id": "e031c33d-ba10-4b44-a3fe-8fd3a29c23b4",
   "metadata": {},
   "source": [
    "### 3.5 Max difference\n",
    "\n",
    "Find the difference between highest buying price and lowest selling price "
   ]
  },
  {
   "cell_type": "code",
   "execution_count": 8,
   "id": "ab84e8fe-dc8c-4c26-ae62-99871ec3f29e",
   "metadata": {},
   "outputs": [
    {
     "name": "stdout",
     "output_type": "stream",
     "text": [
      "The difference between highest buying price and lowest selling price 1297000.0\n"
     ]
    }
   ],
   "source": [
    "# Enter code here\n",
    "data2=data.copy()\n",
    "max_buying_price=np.max(data2['Giá Mua'])\n",
    "min_selling_price=np.min(data2['Giá Bán'])\n",
    "diff = abs(max_buying_price-min_selling_price)\n",
    "print(f'The difference between highest buying price and lowest selling price {diff}')"
   ]
  },
  {
   "cell_type": "markdown",
   "id": "48c8e44c-2e57-4e27-beda-457c3ed6e2cd",
   "metadata": {},
   "source": [
    "## Author\n",
    "\n",
    "#### <a href=\"\" target=\"_blank\">Do Thai Giang</a>\n",
    "\n",
    "## Change Log\n",
    "\n",
    "| Date (YYYY-MM-DD) | Version | Changed By | Change Description                 |\n",
    "| ----------------- | ------- | ---------- | ---------------------------------- |\n",
    "| 2022-10-24        | 1.0     | Giangdt26  | Create the 1st version             |\n",
    "|                   |         |            |                                    |\n",
    "|                   |         |            |                                    |\n",
    "\n",
    "<hr>\n",
    "\n",
    "## <h3 align=\"center\"> © FPT University. All rights reserved. <h3/>\n"
   ]
  },
  {
   "cell_type": "code",
   "execution_count": null,
   "id": "2cb51cc1-6462-42dc-bd38-225afb8eb8ac",
   "metadata": {},
   "outputs": [],
   "source": []
  }
 ],
 "metadata": {
  "kernelspec": {
   "display_name": "Python 3 (ipykernel)",
   "language": "python",
   "name": "python3"
  },
  "language_info": {
   "codemirror_mode": {
    "name": "ipython",
    "version": 3
   },
   "file_extension": ".py",
   "mimetype": "text/x-python",
   "name": "python",
   "nbconvert_exporter": "python",
   "pygments_lexer": "ipython3",
   "version": "3.10.11"
  }
 },
 "nbformat": 4,
 "nbformat_minor": 5
}
